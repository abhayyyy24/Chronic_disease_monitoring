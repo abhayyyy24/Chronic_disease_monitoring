{
  "cells": [
    {
      "cell_type": "markdown",
      "metadata": {
        "id": "view-in-github",
        "colab_type": "text"
      },
      "source": [
        "<a href=\"https://colab.research.google.com/github/abhayyyy24/Chronic_disease_monitoring/blob/main/Risk_flags.ipynb\" target=\"_parent\"><img src=\"https://colab.research.google.com/assets/colab-badge.svg\" alt=\"Open In Colab\"/></a>"
      ]
    },
    {
      "cell_type": "code",
      "execution_count": 5,
      "metadata": {
        "id": "i7tdFBierL4K"
      },
      "outputs": [],
      "source": [
        "import pandas as pd"
      ]
    },
    {
      "cell_type": "code",
      "execution_count": 6,
      "metadata": {
        "id": "iuAz-9xBr1cN"
      },
      "outputs": [],
      "source": [
        "df=pd.read_csv(\"after-eda.csv\")"
      ]
    },
    {
      "cell_type": "code",
      "execution_count": 10,
      "metadata": {
        "colab": {
          "base_uri": "https://localhost:8080/",
          "height": 219
        },
        "id": "XvxWs553r6wd",
        "outputId": "5fb59d82-c9cf-4258-df95-1b1e28e96531"
      },
      "outputs": [
        {
          "output_type": "error",
          "ename": "NameError",
          "evalue": "name 'row' is not defined",
          "traceback": [
            "\u001b[0;31m---------------------------------------------------------------------------\u001b[0m",
            "\u001b[0;31mNameError\u001b[0m                                 Traceback (most recent call last)",
            "\u001b[0;32m<ipython-input-10-72779c41d09f>\u001b[0m in \u001b[0;36m<cell line: 0>\u001b[0;34m()\u001b[0m\n\u001b[1;32m      3\u001b[0m \u001b[0;34m\u001b[0m\u001b[0m\n\u001b[1;32m      4\u001b[0m \u001b[0;31m# Heart Rate\u001b[0m\u001b[0;34m\u001b[0m\u001b[0;34m\u001b[0m\u001b[0m\n\u001b[0;32m----> 5\u001b[0;31m \u001b[0;32mif\u001b[0m \u001b[0mrow\u001b[0m\u001b[0;34m[\u001b[0m\u001b[0;34m'Heart Rate (BPM)'\u001b[0m\u001b[0;34m]\u001b[0m\u001b[0;34m>\u001b[0m\u001b[0;36m130\u001b[0m\u001b[0;34m:\u001b[0m\u001b[0;34m\u001b[0m\u001b[0;34m\u001b[0m\u001b[0m\n\u001b[0m\u001b[1;32m      6\u001b[0m   \u001b[0mrisk_score\u001b[0m\u001b[0;34m+=\u001b[0m\u001b[0;36m3\u001b[0m\u001b[0;34m\u001b[0m\u001b[0;34m\u001b[0m\u001b[0m\n\u001b[1;32m      7\u001b[0m \u001b[0;32melif\u001b[0m \u001b[0mrow\u001b[0m\u001b[0;34m[\u001b[0m\u001b[0;34m'Heart Rate (BPM)'\u001b[0m\u001b[0;34m]\u001b[0m\u001b[0;34m>\u001b[0m\u001b[0;36m120\u001b[0m\u001b[0;34m:\u001b[0m\u001b[0;34m\u001b[0m\u001b[0;34m\u001b[0m\u001b[0m\n",
            "\u001b[0;31mNameError\u001b[0m: name 'row' is not defined"
          ]
        }
      ],
      "source": [
        "def calculate_risk_score(row):\n",
        "  risk_score=0\n",
        "\n",
        "# Heart Rate\n",
        "if row['Heart Rate (BPM)']>130:\n",
        "  risk_score+=3\n",
        "elif row['Heart Rate (BPM)']>120:\n",
        "  risk_score+=2\n",
        "else:\n",
        "  risk_score+=0\n",
        "\n",
        "#Blood Oxygen (%) weight\n",
        "if row['Blood Oxygen Level(%)']<90:\n",
        "  risk_score+=3\n",
        "elif row['Blood Oxygen Level(%)']<92:\n",
        "  risk_score+=2\n",
        "else:\n",
        "  risk_score+=0\n",
        "\n",
        "#Stress level\n",
        "if row['Stress Level'] > 8:\n",
        "  risk_score += 2\n",
        "elif row['Stress Level'] > 7:\n",
        "  risk_score += 1\n",
        "\n",
        "#Sleep Duration\n",
        "if row['Sleep Duration'] < 4:\n",
        "  risk_score += 3\n",
        "elif row['Sleep Duration'] < 6:\n",
        "  risk_score += 2\n",
        "else:\n",
        "  risk_score += 1\n",
        "\n",
        "# Step Count weight\n",
        "if row['Step Count'] < 500:\n",
        "  risk_score += 2\n",
        "elif row['Step Count'] < 1000:\n",
        "  risk_score += 1\n",
        "\n",
        "if row['Activity Score'] < 3:\n",
        "  risk_score += 2\n",
        "elif row['Activity Score'] < 5:\n",
        "  risk_score += 1\n",
        "\n",
        "return risk_score\n",
        "\n",
        "df['risk score']=df.apply(lambda row:calculate_risk_score,axis=1)"
      ]
    },
    {
      "cell_type": "code",
      "execution_count": null,
      "metadata": {
        "id": "TkE4j6aRyetF"
      },
      "outputs": [],
      "source": []
    }
  ],
  "metadata": {
    "colab": {
      "provenance": [],
      "authorship_tag": "ABX9TyPBS23J+g6MN9gAJL6AsGsE",
      "include_colab_link": true
    },
    "kernelspec": {
      "display_name": "Python 3",
      "name": "python3"
    },
    "language_info": {
      "name": "python"
    }
  },
  "nbformat": 4,
  "nbformat_minor": 0
}