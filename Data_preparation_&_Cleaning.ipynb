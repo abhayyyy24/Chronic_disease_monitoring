{
  "nbformat": 4,
  "nbformat_minor": 0,
  "metadata": {
    "colab": {
      "provenance": [],
      "authorship_tag": "ABX9TyN8nEJ1gUCzTYbahpUWUK7n",
      "include_colab_link": true
    },
    "kernelspec": {
      "name": "python3",
      "display_name": "Python 3"
    },
    "language_info": {
      "name": "python"
    }
  },
  "cells": [
    {
      "cell_type": "markdown",
      "metadata": {
        "id": "view-in-github",
        "colab_type": "text"
      },
      "source": [
        "<a href=\"https://colab.research.google.com/github/abhayyyy24/Chronic_disease_monitoring/blob/main/Data_preparation_%26_Cleaning.ipynb\" target=\"_parent\"><img src=\"https://colab.research.google.com/assets/colab-badge.svg\" alt=\"Open In Colab\"/></a>"
      ]
    },
    {
      "cell_type": "code",
      "source": [
        "import pandas as pd"
      ],
      "metadata": {
        "id": "SL35lnEjD6s8"
      },
      "execution_count": 102,
      "outputs": []
    },
    {
      "cell_type": "code",
      "source": [
        "df=pd.read_csv(\"w-data.csv\")"
      ],
      "metadata": {
        "id": "xCZ2dqYkD-m4"
      },
      "execution_count": 103,
      "outputs": []
    },
    {
      "cell_type": "code",
      "source": [
        "print(df.head(10))"
      ],
      "metadata": {
        "colab": {
          "base_uri": "https://localhost:8080/"
        },
        "id": "rib8yUUgEFe_",
        "outputId": "aa76ed17-a106-4883-d045-559ab2d3ac68"
      },
      "execution_count": 104,
      "outputs": [
        {
          "output_type": "stream",
          "name": "stdout",
          "text": [
            "   User ID  Heart Rate (BPM)  Blood Oxygen Level (%)    Step Count  \\\n",
            "0   4174.0         58.939776               98.809650   5450.390578   \n",
            "1      NaN               NaN               98.532195    727.601610   \n",
            "2   1860.0        247.803052               97.052954   2826.521994   \n",
            "3   2294.0         40.000000               96.894213  13797.338044   \n",
            "4   2130.0         61.950165               98.583797  15679.067648   \n",
            "5   2095.0         96.285938               94.202910  10205.992256   \n",
            "6   4772.0         47.272257               95.389760   3208.781177   \n",
            "7   4092.0         81.733497               95.981343   6051.249857   \n",
            "8   3979.0         93.340338               97.218945   1775.029578   \n",
            "9   3169.0         51.409967               97.272787   7940.021452   \n",
            "\n",
            "  Sleep Duration (hours) Activity Level Stress Level  \n",
            "0      7.167235622316564  Highly Active            1  \n",
            "1      6.538239375570314  Highly_Active            5  \n",
            "2                  ERROR  Highly Active            5  \n",
            "3      7.367789630207228          Actve            3  \n",
            "4                    NaN  Highly_Active            6  \n",
            "5      8.378342673824589  Highly_Active           10  \n",
            "6      7.871146008904113     Seddentary            2  \n",
            "7      5.224139066195455      Sedentary            1  \n",
            "8      5.468413771417153     Seddentary            1  \n",
            "9     7.9544989905339145     Seddentary            8  \n"
          ]
        }
      ]
    },
    {
      "cell_type": "code",
      "source": [
        "df=df.drop(\"User ID\",axis=1)"
      ],
      "metadata": {
        "id": "BN0blOcsEf6X"
      },
      "execution_count": 105,
      "outputs": []
    },
    {
      "cell_type": "code",
      "source": [
        "print(df.head(10))"
      ],
      "metadata": {
        "colab": {
          "base_uri": "https://localhost:8080/"
        },
        "id": "0A204OSeEqlr",
        "outputId": "a334e2cf-6a23-4c31-b252-e1b3ced82d0f"
      },
      "execution_count": 106,
      "outputs": [
        {
          "output_type": "stream",
          "name": "stdout",
          "text": [
            "   Heart Rate (BPM)  Blood Oxygen Level (%)    Step Count  \\\n",
            "0         58.939776               98.809650   5450.390578   \n",
            "1               NaN               98.532195    727.601610   \n",
            "2        247.803052               97.052954   2826.521994   \n",
            "3         40.000000               96.894213  13797.338044   \n",
            "4         61.950165               98.583797  15679.067648   \n",
            "5         96.285938               94.202910  10205.992256   \n",
            "6         47.272257               95.389760   3208.781177   \n",
            "7         81.733497               95.981343   6051.249857   \n",
            "8         93.340338               97.218945   1775.029578   \n",
            "9         51.409967               97.272787   7940.021452   \n",
            "\n",
            "  Sleep Duration (hours) Activity Level Stress Level  \n",
            "0      7.167235622316564  Highly Active            1  \n",
            "1      6.538239375570314  Highly_Active            5  \n",
            "2                  ERROR  Highly Active            5  \n",
            "3      7.367789630207228          Actve            3  \n",
            "4                    NaN  Highly_Active            6  \n",
            "5      8.378342673824589  Highly_Active           10  \n",
            "6      7.871146008904113     Seddentary            2  \n",
            "7      5.224139066195455      Sedentary            1  \n",
            "8      5.468413771417153     Seddentary            1  \n",
            "9     7.9544989905339145     Seddentary            8  \n"
          ]
        }
      ]
    },
    {
      "cell_type": "code",
      "source": [
        "df['Heart Rate (BPM)'] = df['Heart Rate (BPM)'].fillna(df['Heart Rate (BPM)'].mean())"
      ],
      "metadata": {
        "id": "T8AL7tnTFNY8"
      },
      "execution_count": 107,
      "outputs": []
    },
    {
      "cell_type": "code",
      "source": [
        "print(df.head(10))"
      ],
      "metadata": {
        "colab": {
          "base_uri": "https://localhost:8080/"
        },
        "id": "S0FZBjXOFWvO",
        "outputId": "c1fae4d2-3ef1-45e4-e65a-01fb7161e7dc"
      },
      "execution_count": 108,
      "outputs": [
        {
          "output_type": "stream",
          "name": "stdout",
          "text": [
            "   Heart Rate (BPM)  Blood Oxygen Level (%)    Step Count  \\\n",
            "0         58.939776               98.809650   5450.390578   \n",
            "1         76.035462               98.532195    727.601610   \n",
            "2        247.803052               97.052954   2826.521994   \n",
            "3         40.000000               96.894213  13797.338044   \n",
            "4         61.950165               98.583797  15679.067648   \n",
            "5         96.285938               94.202910  10205.992256   \n",
            "6         47.272257               95.389760   3208.781177   \n",
            "7         81.733497               95.981343   6051.249857   \n",
            "8         93.340338               97.218945   1775.029578   \n",
            "9         51.409967               97.272787   7940.021452   \n",
            "\n",
            "  Sleep Duration (hours) Activity Level Stress Level  \n",
            "0      7.167235622316564  Highly Active            1  \n",
            "1      6.538239375570314  Highly_Active            5  \n",
            "2                  ERROR  Highly Active            5  \n",
            "3      7.367789630207228          Actve            3  \n",
            "4                    NaN  Highly_Active            6  \n",
            "5      8.378342673824589  Highly_Active           10  \n",
            "6      7.871146008904113     Seddentary            2  \n",
            "7      5.224139066195455      Sedentary            1  \n",
            "8      5.468413771417153     Seddentary            1  \n",
            "9     7.9544989905339145     Seddentary            8  \n"
          ]
        }
      ]
    },
    {
      "cell_type": "code",
      "source": [
        "df['Step Count'] = df['Step Count'].fillna(df['Step Count'].mean())"
      ],
      "metadata": {
        "id": "UPm23I2oGCRG"
      },
      "execution_count": 109,
      "outputs": []
    },
    {
      "cell_type": "code",
      "source": [
        "df['Step Count'] = df['Step Count'].round().astype(int)"
      ],
      "metadata": {
        "id": "NgWPuiV6GO8B"
      },
      "execution_count": 110,
      "outputs": []
    },
    {
      "cell_type": "code",
      "source": [
        "print(df.head(10))"
      ],
      "metadata": {
        "colab": {
          "base_uri": "https://localhost:8080/"
        },
        "id": "RXPx8rScGY1J",
        "outputId": "bbe35c0b-58e9-46c5-c06f-37254e0688c5"
      },
      "execution_count": 111,
      "outputs": [
        {
          "output_type": "stream",
          "name": "stdout",
          "text": [
            "   Heart Rate (BPM)  Blood Oxygen Level (%)  Step Count  \\\n",
            "0         58.939776               98.809650        5450   \n",
            "1         76.035462               98.532195         728   \n",
            "2        247.803052               97.052954        2827   \n",
            "3         40.000000               96.894213       13797   \n",
            "4         61.950165               98.583797       15679   \n",
            "5         96.285938               94.202910       10206   \n",
            "6         47.272257               95.389760        3209   \n",
            "7         81.733497               95.981343        6051   \n",
            "8         93.340338               97.218945        1775   \n",
            "9         51.409967               97.272787        7940   \n",
            "\n",
            "  Sleep Duration (hours) Activity Level Stress Level  \n",
            "0      7.167235622316564  Highly Active            1  \n",
            "1      6.538239375570314  Highly_Active            5  \n",
            "2                  ERROR  Highly Active            5  \n",
            "3      7.367789630207228          Actve            3  \n",
            "4                    NaN  Highly_Active            6  \n",
            "5      8.378342673824589  Highly_Active           10  \n",
            "6      7.871146008904113     Seddentary            2  \n",
            "7      5.224139066195455      Sedentary            1  \n",
            "8      5.468413771417153     Seddentary            1  \n",
            "9     7.9544989905339145     Seddentary            8  \n"
          ]
        }
      ]
    },
    {
      "cell_type": "code",
      "source": [
        "df['Blood Oxygen Level (%)']=df['Blood Oxygen Level (%)'].round(2)"
      ],
      "metadata": {
        "id": "gWTYvjxaGsZy"
      },
      "execution_count": 112,
      "outputs": []
    },
    {
      "cell_type": "code",
      "source": [
        "print(df.head(10))"
      ],
      "metadata": {
        "colab": {
          "base_uri": "https://localhost:8080/"
        },
        "id": "ZscIGHMGGzyh",
        "outputId": "ce789e1b-86f3-43ca-df40-7d77a2e6798f"
      },
      "execution_count": 113,
      "outputs": [
        {
          "output_type": "stream",
          "name": "stdout",
          "text": [
            "   Heart Rate (BPM)  Blood Oxygen Level (%)  Step Count  \\\n",
            "0         58.939776                   98.81        5450   \n",
            "1         76.035462                   98.53         728   \n",
            "2        247.803052                   97.05        2827   \n",
            "3         40.000000                   96.89       13797   \n",
            "4         61.950165                   98.58       15679   \n",
            "5         96.285938                   94.20       10206   \n",
            "6         47.272257                   95.39        3209   \n",
            "7         81.733497                   95.98        6051   \n",
            "8         93.340338                   97.22        1775   \n",
            "9         51.409967                   97.27        7940   \n",
            "\n",
            "  Sleep Duration (hours) Activity Level Stress Level  \n",
            "0      7.167235622316564  Highly Active            1  \n",
            "1      6.538239375570314  Highly_Active            5  \n",
            "2                  ERROR  Highly Active            5  \n",
            "3      7.367789630207228          Actve            3  \n",
            "4                    NaN  Highly_Active            6  \n",
            "5      8.378342673824589  Highly_Active           10  \n",
            "6      7.871146008904113     Seddentary            2  \n",
            "7      5.224139066195455      Sedentary            1  \n",
            "8      5.468413771417153     Seddentary            1  \n",
            "9     7.9544989905339145     Seddentary            8  \n"
          ]
        }
      ]
    },
    {
      "cell_type": "code",
      "source": [
        "df['Heart Rate (BPM)']=df['Heart Rate (BPM)'].round(2)"
      ],
      "metadata": {
        "id": "o8xvuT9bG6f4"
      },
      "execution_count": 114,
      "outputs": []
    },
    {
      "cell_type": "code",
      "source": [
        "print(df.head(10))"
      ],
      "metadata": {
        "colab": {
          "base_uri": "https://localhost:8080/"
        },
        "id": "7X7aP27KH9_P",
        "outputId": "829acb4c-ad2b-44df-99fe-7a40c3f9ae23"
      },
      "execution_count": 115,
      "outputs": [
        {
          "output_type": "stream",
          "name": "stdout",
          "text": [
            "   Heart Rate (BPM)  Blood Oxygen Level (%)  Step Count  \\\n",
            "0             58.94                   98.81        5450   \n",
            "1             76.04                   98.53         728   \n",
            "2            247.80                   97.05        2827   \n",
            "3             40.00                   96.89       13797   \n",
            "4             61.95                   98.58       15679   \n",
            "5             96.29                   94.20       10206   \n",
            "6             47.27                   95.39        3209   \n",
            "7             81.73                   95.98        6051   \n",
            "8             93.34                   97.22        1775   \n",
            "9             51.41                   97.27        7940   \n",
            "\n",
            "  Sleep Duration (hours) Activity Level Stress Level  \n",
            "0      7.167235622316564  Highly Active            1  \n",
            "1      6.538239375570314  Highly_Active            5  \n",
            "2                  ERROR  Highly Active            5  \n",
            "3      7.367789630207228          Actve            3  \n",
            "4                    NaN  Highly_Active            6  \n",
            "5      8.378342673824589  Highly_Active           10  \n",
            "6      7.871146008904113     Seddentary            2  \n",
            "7      5.224139066195455      Sedentary            1  \n",
            "8      5.468413771417153     Seddentary            1  \n",
            "9     7.9544989905339145     Seddentary            8  \n"
          ]
        }
      ]
    },
    {
      "cell_type": "code",
      "source": [
        "df['Sleep Duration (hours)'] = pd.to_numeric(df['Sleep Duration (hours)'], errors='coerce')\n"
      ],
      "metadata": {
        "id": "oXcxRlCnIKYk"
      },
      "execution_count": 116,
      "outputs": []
    },
    {
      "cell_type": "code",
      "source": [
        "df['Sleep Duration (hours)']=df['Sleep Duration (hours)'].fillna(df['Sleep Duration (hours)'].mean())"
      ],
      "metadata": {
        "id": "rosuHHARIjVW"
      },
      "execution_count": 117,
      "outputs": []
    },
    {
      "cell_type": "code",
      "source": [
        "print(df.head(20))"
      ],
      "metadata": {
        "colab": {
          "base_uri": "https://localhost:8080/"
        },
        "id": "i7HZXdmCIxYm",
        "outputId": "3abf68d1-eaae-4434-9d2b-8bf6e8524ecd"
      },
      "execution_count": 118,
      "outputs": [
        {
          "output_type": "stream",
          "name": "stdout",
          "text": [
            "    Heart Rate (BPM)  Blood Oxygen Level (%)  Step Count  \\\n",
            "0              58.94                   98.81        5450   \n",
            "1              76.04                   98.53         728   \n",
            "2             247.80                   97.05        2827   \n",
            "3              40.00                   96.89       13797   \n",
            "4              61.95                   98.58       15679   \n",
            "5              96.29                   94.20       10206   \n",
            "6              47.27                   95.39        3209   \n",
            "7              81.73                   95.98        6051   \n",
            "8              93.34                   97.22        1775   \n",
            "9              51.41                   97.27        7940   \n",
            "10            101.91                     NaN        2988   \n",
            "11             73.85                   95.40        1748   \n",
            "12             95.37                   99.15        6156   \n",
            "13             79.06                   99.01         830   \n",
            "14             68.09                   99.73        8124   \n",
            "15             40.00                   99.05        1449   \n",
            "16             58.28                   97.79        5644   \n",
            "17             76.04                   96.05        3489   \n",
            "18             98.06                   96.03        5847   \n",
            "19             53.93                   96.30        1976   \n",
            "\n",
            "    Sleep Duration (hours) Activity Level Stress Level  \n",
            "0                 7.167236  Highly Active            1  \n",
            "1                 6.538239  Highly_Active            5  \n",
            "2                 6.505463  Highly Active            5  \n",
            "3                 7.367790          Actve            3  \n",
            "4                 6.505463  Highly_Active            6  \n",
            "5                 8.378343  Highly_Active           10  \n",
            "6                 7.871146     Seddentary            2  \n",
            "7                 5.224139      Sedentary            1  \n",
            "8                 5.468414     Seddentary            1  \n",
            "9                 7.954499     Seddentary            8  \n",
            "10                7.541956      Sedentary            9  \n",
            "11                4.830162          Actve            1  \n",
            "12                5.814348  Highly_Active           10  \n",
            "13                6.269060      Sedentary          NaN  \n",
            "14                6.444870  Highly_Active            5  \n",
            "15                6.392174         Active            2  \n",
            "16                7.848859     Seddentary           10  \n",
            "17                6.718661     Seddentary            4  \n",
            "18                6.621127     Seddentary            9  \n",
            "19                5.364849  Highly_Active            5  \n"
          ]
        }
      ]
    },
    {
      "cell_type": "code",
      "source": [
        "df['Sleep Duration (hours)']=df['Sleep Duration (hours)'].round(2)"
      ],
      "metadata": {
        "id": "S2xClZgoJDem"
      },
      "execution_count": 119,
      "outputs": []
    },
    {
      "cell_type": "code",
      "source": [
        "print(df.head(10))"
      ],
      "metadata": {
        "colab": {
          "base_uri": "https://localhost:8080/"
        },
        "id": "KJdOiQYqJLB9",
        "outputId": "6477dd87-4273-4082-fd51-076842160329"
      },
      "execution_count": 120,
      "outputs": [
        {
          "output_type": "stream",
          "name": "stdout",
          "text": [
            "   Heart Rate (BPM)  Blood Oxygen Level (%)  Step Count  \\\n",
            "0             58.94                   98.81        5450   \n",
            "1             76.04                   98.53         728   \n",
            "2            247.80                   97.05        2827   \n",
            "3             40.00                   96.89       13797   \n",
            "4             61.95                   98.58       15679   \n",
            "5             96.29                   94.20       10206   \n",
            "6             47.27                   95.39        3209   \n",
            "7             81.73                   95.98        6051   \n",
            "8             93.34                   97.22        1775   \n",
            "9             51.41                   97.27        7940   \n",
            "\n",
            "   Sleep Duration (hours) Activity Level Stress Level  \n",
            "0                    7.17  Highly Active            1  \n",
            "1                    6.54  Highly_Active            5  \n",
            "2                    6.51  Highly Active            5  \n",
            "3                    7.37          Actve            3  \n",
            "4                    6.51  Highly_Active            6  \n",
            "5                    8.38  Highly_Active           10  \n",
            "6                    7.87     Seddentary            2  \n",
            "7                    5.22      Sedentary            1  \n",
            "8                    5.47     Seddentary            1  \n",
            "9                    7.95     Seddentary            8  \n"
          ]
        }
      ]
    },
    {
      "cell_type": "code",
      "source": [
        "print(df['Activity Level'].unique())"
      ],
      "metadata": {
        "colab": {
          "base_uri": "https://localhost:8080/"
        },
        "id": "uTEDMsZdJ5gJ",
        "outputId": "2f4402b3-2c86-415c-a0e5-3d450707e53e"
      },
      "execution_count": 121,
      "outputs": [
        {
          "output_type": "stream",
          "name": "stdout",
          "text": [
            "['Highly Active' 'Highly_Active' 'Actve' 'Seddentary' 'Sedentary' 'Active'\n",
            " nan]\n"
          ]
        }
      ]
    },
    {
      "cell_type": "code",
      "source": [
        "corrections={\n",
        "    'Highly_Active':'Highly Active',\n",
        "    'Actve':'Active',\n",
        "    'Seddentary':'Sedentary',\n",
        "}"
      ],
      "metadata": {
        "id": "ksozKMH7KxTe"
      },
      "execution_count": 122,
      "outputs": []
    },
    {
      "cell_type": "code",
      "source": [
        "df['Activity Level']=df['Activity Level'].replace(corrections)"
      ],
      "metadata": {
        "id": "SKT9PzHvLUrS"
      },
      "execution_count": 123,
      "outputs": []
    },
    {
      "cell_type": "code",
      "source": [
        "print(df.head(20))"
      ],
      "metadata": {
        "colab": {
          "base_uri": "https://localhost:8080/"
        },
        "id": "zKUM8qdeLpwl",
        "outputId": "36927536-e6b1-4fba-fb3b-b2c6c95f685c"
      },
      "execution_count": 124,
      "outputs": [
        {
          "output_type": "stream",
          "name": "stdout",
          "text": [
            "    Heart Rate (BPM)  Blood Oxygen Level (%)  Step Count  \\\n",
            "0              58.94                   98.81        5450   \n",
            "1              76.04                   98.53         728   \n",
            "2             247.80                   97.05        2827   \n",
            "3              40.00                   96.89       13797   \n",
            "4              61.95                   98.58       15679   \n",
            "5              96.29                   94.20       10206   \n",
            "6              47.27                   95.39        3209   \n",
            "7              81.73                   95.98        6051   \n",
            "8              93.34                   97.22        1775   \n",
            "9              51.41                   97.27        7940   \n",
            "10            101.91                     NaN        2988   \n",
            "11             73.85                   95.40        1748   \n",
            "12             95.37                   99.15        6156   \n",
            "13             79.06                   99.01         830   \n",
            "14             68.09                   99.73        8124   \n",
            "15             40.00                   99.05        1449   \n",
            "16             58.28                   97.79        5644   \n",
            "17             76.04                   96.05        3489   \n",
            "18             98.06                   96.03        5847   \n",
            "19             53.93                   96.30        1976   \n",
            "\n",
            "    Sleep Duration (hours) Activity Level Stress Level  \n",
            "0                     7.17  Highly Active            1  \n",
            "1                     6.54  Highly Active            5  \n",
            "2                     6.51  Highly Active            5  \n",
            "3                     7.37         Active            3  \n",
            "4                     6.51  Highly Active            6  \n",
            "5                     8.38  Highly Active           10  \n",
            "6                     7.87      Sedentary            2  \n",
            "7                     5.22      Sedentary            1  \n",
            "8                     5.47      Sedentary            1  \n",
            "9                     7.95      Sedentary            8  \n",
            "10                    7.54      Sedentary            9  \n",
            "11                    4.83         Active            1  \n",
            "12                    5.81  Highly Active           10  \n",
            "13                    6.27      Sedentary          NaN  \n",
            "14                    6.44  Highly Active            5  \n",
            "15                    6.39         Active            2  \n",
            "16                    7.85      Sedentary           10  \n",
            "17                    6.72      Sedentary            4  \n",
            "18                    6.62      Sedentary            9  \n",
            "19                    5.36  Highly Active            5  \n"
          ]
        }
      ]
    },
    {
      "cell_type": "code",
      "source": [
        "df=df.dropna()"
      ],
      "metadata": {
        "id": "Ma_1xyGLMBhT"
      },
      "execution_count": 125,
      "outputs": []
    },
    {
      "cell_type": "code",
      "source": [
        "print(df.head(20))"
      ],
      "metadata": {
        "colab": {
          "base_uri": "https://localhost:8080/"
        },
        "id": "db-3zpOmMF_E",
        "outputId": "89ec5b65-14b5-43be-9bf8-bbac94c47ed2"
      },
      "execution_count": 126,
      "outputs": [
        {
          "output_type": "stream",
          "name": "stdout",
          "text": [
            "    Heart Rate (BPM)  Blood Oxygen Level (%)  Step Count  \\\n",
            "0              58.94                   98.81        5450   \n",
            "1              76.04                   98.53         728   \n",
            "2             247.80                   97.05        2827   \n",
            "3              40.00                   96.89       13797   \n",
            "4              61.95                   98.58       15679   \n",
            "5              96.29                   94.20       10206   \n",
            "6              47.27                   95.39        3209   \n",
            "7              81.73                   95.98        6051   \n",
            "8              93.34                   97.22        1775   \n",
            "9              51.41                   97.27        7940   \n",
            "11             73.85                   95.40        1748   \n",
            "12             95.37                   99.15        6156   \n",
            "14             68.09                   99.73        8124   \n",
            "15             40.00                   99.05        1449   \n",
            "16             58.28                   97.79        5644   \n",
            "17             76.04                   96.05        3489   \n",
            "18             98.06                   96.03        5847   \n",
            "19             53.93                   96.30        1976   \n",
            "20             74.11                   99.65        2601   \n",
            "23             76.33                   98.76         509   \n",
            "\n",
            "    Sleep Duration (hours) Activity Level Stress Level  \n",
            "0                     7.17  Highly Active            1  \n",
            "1                     6.54  Highly Active            5  \n",
            "2                     6.51  Highly Active            5  \n",
            "3                     7.37         Active            3  \n",
            "4                     6.51  Highly Active            6  \n",
            "5                     8.38  Highly Active           10  \n",
            "6                     7.87      Sedentary            2  \n",
            "7                     5.22      Sedentary            1  \n",
            "8                     5.47      Sedentary            1  \n",
            "9                     7.95      Sedentary            8  \n",
            "11                    4.83         Active            1  \n",
            "12                    5.81  Highly Active           10  \n",
            "14                    6.44  Highly Active            5  \n",
            "15                    6.39         Active            2  \n",
            "16                    7.85      Sedentary           10  \n",
            "17                    6.72      Sedentary            4  \n",
            "18                    6.62      Sedentary            9  \n",
            "19                    5.36  Highly Active            5  \n",
            "20                    6.75  Highly Active            9  \n",
            "23                    4.77      Sedentary    Very High  \n"
          ]
        }
      ]
    },
    {
      "cell_type": "code",
      "source": [
        "df['Stress Level']=pd.to_numeric(df['Stress Level'],errors='coerce')"
      ],
      "metadata": {
        "id": "CPNPb36MNQON"
      },
      "execution_count": 127,
      "outputs": []
    },
    {
      "cell_type": "code",
      "source": [
        "df = df.dropna(subset=['Stress Level'])"
      ],
      "metadata": {
        "id": "z2GNQ_J7NYmQ"
      },
      "execution_count": 128,
      "outputs": []
    },
    {
      "cell_type": "code",
      "source": [
        "df['Stress Level'] = df['Stress Level'].astype(int)"
      ],
      "metadata": {
        "id": "wXrk2uKANlSm"
      },
      "execution_count": 129,
      "outputs": []
    },
    {
      "cell_type": "code",
      "source": [
        "print(df.head(20))"
      ],
      "metadata": {
        "colab": {
          "base_uri": "https://localhost:8080/"
        },
        "id": "mL-tQrlONeez",
        "outputId": "c870015d-e46d-405f-9acf-4b8a69f0abb1"
      },
      "execution_count": 130,
      "outputs": [
        {
          "output_type": "stream",
          "name": "stdout",
          "text": [
            "    Heart Rate (BPM)  Blood Oxygen Level (%)  Step Count  \\\n",
            "0              58.94                   98.81        5450   \n",
            "1              76.04                   98.53         728   \n",
            "2             247.80                   97.05        2827   \n",
            "3              40.00                   96.89       13797   \n",
            "4              61.95                   98.58       15679   \n",
            "5              96.29                   94.20       10206   \n",
            "6              47.27                   95.39        3209   \n",
            "7              81.73                   95.98        6051   \n",
            "8              93.34                   97.22        1775   \n",
            "9              51.41                   97.27        7940   \n",
            "11             73.85                   95.40        1748   \n",
            "12             95.37                   99.15        6156   \n",
            "14             68.09                   99.73        8124   \n",
            "15             40.00                   99.05        1449   \n",
            "16             58.28                   97.79        5644   \n",
            "17             76.04                   96.05        3489   \n",
            "18             98.06                   96.03        5847   \n",
            "19             53.93                   96.30        1976   \n",
            "20             74.11                   99.65        2601   \n",
            "24             69.42                   99.25        3306   \n",
            "\n",
            "    Sleep Duration (hours) Activity Level  Stress Level  \n",
            "0                     7.17  Highly Active             1  \n",
            "1                     6.54  Highly Active             5  \n",
            "2                     6.51  Highly Active             5  \n",
            "3                     7.37         Active             3  \n",
            "4                     6.51  Highly Active             6  \n",
            "5                     8.38  Highly Active            10  \n",
            "6                     7.87      Sedentary             2  \n",
            "7                     5.22      Sedentary             1  \n",
            "8                     5.47      Sedentary             1  \n",
            "9                     7.95      Sedentary             8  \n",
            "11                    4.83         Active             1  \n",
            "12                    5.81  Highly Active            10  \n",
            "14                    6.44  Highly Active             5  \n",
            "15                    6.39         Active             2  \n",
            "16                    7.85      Sedentary            10  \n",
            "17                    6.72      Sedentary             4  \n",
            "18                    6.62      Sedentary             9  \n",
            "19                    5.36  Highly Active             5  \n",
            "20                    6.75  Highly Active             9  \n",
            "24                    8.42  Highly Active             1  \n"
          ]
        }
      ]
    }
  ]
}